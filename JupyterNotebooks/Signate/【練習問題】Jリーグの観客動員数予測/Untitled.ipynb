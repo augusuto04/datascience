{
 "cells": [
  {
   "cell_type": "code",
   "execution_count": 1,
   "metadata": {},
   "outputs": [],
   "source": [
    "import numpy as np\n",
    "import pandas as pd\n",
    "import matplotlib.pyplot as plt\n",
    "import re\n",
    "%matplotlib inline"
   ]
  },
  {
   "cell_type": "code",
   "execution_count": 2,
   "metadata": {},
   "outputs": [],
   "source": [
    "TRAIN_CSV_PATH = \"data/train.csv\"\n",
    "TRAIN_ADD_CSV_PATH = \"data/train_add.csv\"\n",
    "TEST_CSV_PATH = \"data/test.csv\"\n",
    "ADD_2014_CSV_PATH = \"data/2014_add.csv\"\n",
    "STADIUM_CSV_PATH = \"data/stadium.csv\"\n",
    "CONDITION_CSV_PATH = \"data/condition.csv\"\n",
    "CONDITION_ADD_CSV_PATH = \"data/condition_add.csv\""
   ]
  },
  {
   "cell_type": "code",
   "execution_count": 3,
   "metadata": {},
   "outputs": [],
   "source": [
    "# 訓練データ\n",
    "df_train1 = pd.read_csv(TRAIN_CSV_PATH)\n",
    "# 訓練データ(追加)\n",
    "df_train2 = pd.read_csv(TRAIN_ADD_CSV_PATH)\n",
    "# テストデータ\n",
    "df_test = pd.read_csv(TEST_CSV_PATH)\n",
    "# スタジアム情報\n",
    "df_stadium = pd.read_csv(STADIUM_CSV_PATH)"
   ]
  },
  {
   "cell_type": "code",
   "execution_count": 4,
   "metadata": {},
   "outputs": [],
   "source": [
    "df_train = pd.concat([df_train1, df_train2])\n",
    "# 訓練データにスタジアム情報を結合\n",
    "df_train = pd.merge(df_train, df_stadium, how=\"left\", left_on=\"stadium\", right_on=\"name\")\n",
    "# 試験データにスタジアム情報を結合\n",
    "df_test = pd.merge(df_test, df_stadium, how=\"left\", left_on=\"stadium\", right_on=\"name\")"
   ]
  },
  {
   "cell_type": "code",
   "execution_count": 9,
   "metadata": {},
   "outputs": [
    {
     "name": "stdout",
     "output_type": "stream",
     "text": [
      "<class 'pandas.core.frame.DataFrame'>\n",
      "Int64Index: 313 entries, 0 to 312\n",
      "Data columns (total 13 columns):\n",
      "id         313 non-null int64\n",
      "year       313 non-null int64\n",
      "stage      313 non-null object\n",
      "match      313 non-null object\n",
      "gameday    313 non-null object\n",
      "time       313 non-null object\n",
      "home       313 non-null object\n",
      "away       313 non-null object\n",
      "stadium    313 non-null object\n",
      "tv         313 non-null object\n",
      "name       313 non-null object\n",
      "address    313 non-null object\n",
      "capa       313 non-null int64\n",
      "dtypes: int64(3), object(10)\n",
      "memory usage: 34.2+ KB\n"
     ]
    }
   ],
   "source": []
  },
  {
   "cell_type": "code",
   "execution_count": null,
   "metadata": {},
   "outputs": [],
   "source": []
  },
  {
   "cell_type": "code",
   "execution_count": null,
   "metadata": {},
   "outputs": [],
   "source": []
  }
 ],
 "metadata": {
  "kernelspec": {
   "display_name": "Python 3",
   "language": "python",
   "name": "python3"
  },
  "language_info": {
   "codemirror_mode": {
    "name": "ipython",
    "version": 3
   },
   "file_extension": ".py",
   "mimetype": "text/x-python",
   "name": "python",
   "nbconvert_exporter": "python",
   "pygments_lexer": "ipython3",
   "version": "3.6.8"
  }
 },
 "nbformat": 4,
 "nbformat_minor": 2
}

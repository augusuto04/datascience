{
 "cells": [
  {
   "cell_type": "code",
   "execution_count": 14,
   "metadata": {},
   "outputs": [],
   "source": [
    "import numpy as np\n",
    "from scipy.stats import norm\n",
    "from scipy.stats import uniform\n",
    "import matplotlib.pyplot as plt\n",
    "%matplotlib inline"
   ]
  },
  {
   "cell_type": "markdown",
   "metadata": {},
   "source": [
    "# 正規分布"
   ]
  },
  {
   "cell_type": "markdown",
   "metadata": {},
   "source": [
    "正規分布(normal distribution)は、確率・統計学上最も有用な連続型の確立分布関数であるため、ほかの確立分布から抜き出してここに説明する。"
   ]
  },
  {
   "cell_type": "markdown",
   "metadata": {},
   "source": [
    "## 正規分布の表現"
   ]
  },
  {
   "cell_type": "markdown",
   "metadata": {},
   "source": [
    "正規分布の確立密度関数$ f(x) $は次式で表される。\n",
    "$$\n",
    "    f(x) = \\frac{1}{\\sqrt{2\\pi\\sigma^2}} \\exp\\left\\{-\\frac{(x - \\mu)^2}{2\\sigma^2} \\right\\}\n",
    "$$"
   ]
  },
  {
   "cell_type": "code",
   "execution_count": 6,
   "metadata": {},
   "outputs": [],
   "source": [
    "m = 5 # mean\n",
    "std = 2 # standard deviation\n",
    "x = np.arange(-5, 15, 0.01)\n",
    "y = norm.pdf(x, loc=m, scale=std)"
   ]
  },
  {
   "cell_type": "code",
   "execution_count": 7,
   "metadata": {},
   "outputs": [
    {
     "name": "stdout",
     "output_type": "stream",
     "text": [
      "p=0.9010570639327038\n"
     ]
    }
   ],
   "source": [
    "za = 1.65\n",
    "zb = -1.65\n",
    "pa = norm.cdf(za, loc=0, scale=1) # loc is mean\n",
    "pb = norm.cdf(zb, loc=0, scale=1) # scale is standard deviation\n",
    "p = pa - pb\n",
    "print('p={}'.format(p))"
   ]
  },
  {
   "cell_type": "code",
   "execution_count": 8,
   "metadata": {},
   "outputs": [
    {
     "name": "stdout",
     "output_type": "stream",
     "text": [
      "za=-1.959963984540054, zb=1.959963984540054\n"
     ]
    }
   ],
   "source": [
    "za, zb = norm.interval(alpha=0.95, loc=0, scale=1)\n",
    "print('za={}, zb={}'.format(za, zb))"
   ]
  },
  {
   "cell_type": "code",
   "execution_count": 12,
   "metadata": {},
   "outputs": [
    {
     "name": "stdout",
     "output_type": "stream",
     "text": [
      "N=100, mean=2.0813272204710795, std=3.401773012608586\n",
      "N=10000, mean=2.031494698857792, std=2.9918418705785657\n"
     ]
    },
    {
     "data": {
      "image/png": "[encoded data removed]",
      "text/plain": [
       "<Figure size 432x288 with 1 Axes>"
      ]
     },
     "metadata": {
      "needs_background": "light"
     },
     "output_type": "display_data"
    },
    {
     "data": {
      "image/png": "[encoded data removed]",
      "text/plain": [
       "<Figure size 432x288 with 1 Axes>"
      ]
     },
     "metadata": {
      "needs_background": "light"
     },
     "output_type": "display_data"
    }
   ],
   "source": [
    "np.random.seed(123)\n",
    "\n",
    "mean = 2.0 # mean\n",
    "std = 3.0 # standard deviation\n",
    "for N in [100, 10000]:\n",
    "    x = norm.rvs(loc=mean, scale=std, size=N)\n",
    "    print('N={}, mean={}, std={}'.format(N, x.mean(), x.std(ddof=1)))\n",
    "    plt.figure()\n",
    "    plt.hist(x, bins=20)\n",
    "    plt.title('$N = {}$'.format(N))"
   ]
  },
  {
   "cell_type": "code",
   "execution_count": 15,
   "metadata": {},
   "outputs": [
    {
     "data": {
      "image/png": "[encoded data removed]",
      "text/plain": [
       "<Figure size 432x288 with 1 Axes>"
      ]
     },
     "metadata": {
      "needs_background": "light"
     },
     "output_type": "display_data"
    }
   ],
   "source": [
    "N = 2000\n",
    "y = np.zeros(N)\n",
    "for n in [5, 5000]:\n",
    "    for i in range(N):\n",
    "        x = uniform.rvs(size=n)\n",
    "        y[i] = (x.mean() - 1 / 2 ) / (np.sqrt(1 / 12) / np.sqrt(n))\n",
    "    plt.hist(y, bins=20, range=(-4, 4), density=True)"
   ]
  },
  {
   "cell_type": "code",
   "execution_count": null,
   "metadata": {},
   "outputs": [],
   "source": []
  }
 ],
 "metadata": {
  "kernelspec": {
   "display_name": "Python 3",
   "language": "python",
   "name": "python3"
  },
  "language_info": {
   "codemirror_mode": {
    "name": "ipython",
    "version": 3
   },
   "file_extension": ".py",
   "mimetype": "text/x-python",
   "name": "python",
   "nbconvert_exporter": "python",
   "pygments_lexer": "ipython3",
   "version": "3.6.8"
  }
 },
 "nbformat": 4,
 "nbformat_minor": 2
}

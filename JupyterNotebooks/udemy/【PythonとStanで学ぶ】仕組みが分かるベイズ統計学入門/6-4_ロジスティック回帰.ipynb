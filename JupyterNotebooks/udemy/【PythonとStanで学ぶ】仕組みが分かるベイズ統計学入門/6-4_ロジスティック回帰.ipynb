{
 "cells": [
  {
   "cell_type": "code",
   "execution_count": 2,
   "metadata": {},
   "outputs": [],
   "source": [
    "import pandas as pd\n",
    "import matplotlib.pyplot as plt\n",
    "import numpy as np\n",
    "import pystan\n",
    "from scipy.stats import mstats\n",
    "%matplotlib inline"
   ]
  },
  {
   "cell_type": "code",
   "execution_count": 3,
   "metadata": {},
   "outputs": [],
   "source": [
    "plt.style.use(\"ggplot\")"
   ]
  },
  {
   "cell_type": "code",
   "execution_count": 4,
   "metadata": {},
   "outputs": [],
   "source": [
    "df = pd.read_excel(\"./data/dose_response.xlsx\")"
   ]
  },
  {
   "cell_type": "code",
   "execution_count": 5,
   "metadata": {},
   "outputs": [
    {
     "data": {
      "text/html": [
       "<div>\n",
       "<style scoped>\n",
       "    .dataframe tbody tr th:only-of-type {\n",
       "        vertical-align: middle;\n",
       "    }\n",
       "\n",
       "    .dataframe tbody tr th {\n",
       "        vertical-align: top;\n",
       "    }\n",
       "\n",
       "    .dataframe thead th {\n",
       "        text-align: right;\n",
       "    }\n",
       "</style>\n",
       "<table border=\"1\" class=\"dataframe\">\n",
       "  <thead>\n",
       "    <tr style=\"text-align: right;\">\n",
       "      <th></th>\n",
       "      <th>log10 C</th>\n",
       "      <th>death</th>\n",
       "    </tr>\n",
       "  </thead>\n",
       "  <tbody>\n",
       "    <tr>\n",
       "      <th>0</th>\n",
       "      <td>0.95</td>\n",
       "      <td>0</td>\n",
       "    </tr>\n",
       "    <tr>\n",
       "      <th>1</th>\n",
       "      <td>0.94</td>\n",
       "      <td>0</td>\n",
       "    </tr>\n",
       "    <tr>\n",
       "      <th>2</th>\n",
       "      <td>0.95</td>\n",
       "      <td>0</td>\n",
       "    </tr>\n",
       "    <tr>\n",
       "      <th>3</th>\n",
       "      <td>0.96</td>\n",
       "      <td>0</td>\n",
       "    </tr>\n",
       "    <tr>\n",
       "      <th>4</th>\n",
       "      <td>0.99</td>\n",
       "      <td>0</td>\n",
       "    </tr>\n",
       "  </tbody>\n",
       "</table>\n",
       "</div>"
      ],
      "text/plain": [
       "   log10 C  death\n",
       "0     0.95      0\n",
       "1     0.94      0\n",
       "2     0.95      0\n",
       "3     0.96      0\n",
       "4     0.99      0"
      ]
     },
     "execution_count": 5,
     "metadata": {},
     "output_type": "execute_result"
    }
   ],
   "source": [
    "df.head()"
   ]
  },
  {
   "cell_type": "code",
   "execution_count": 6,
   "metadata": {},
   "outputs": [
    {
     "data": {
      "text/plain": [
       "<matplotlib.collections.PathCollection at 0x223e45691d0>"
      ]
     },
     "execution_count": 6,
     "metadata": {},
     "output_type": "execute_result"
    },
    {
     "data": {
      "image/png": "[encoded data removed]",
      "text/plain": [
       "<Figure size 432x288 with 1 Axes>"
      ]
     },
     "metadata": {},
     "output_type": "display_data"
    }
   ],
   "source": [
    "plt.scatter(df[\"log10 C\"], df[\"death\"])"
   ]
  },
  {
   "cell_type": "code",
   "execution_count": 9,
   "metadata": {},
   "outputs": [],
   "source": [
    "stan_model = \"\"\"\n",
    "data {\n",
    "    int N;\n",
    "    real X[N];\n",
    "    int<lower=0, upper=1> Y[N];\n",
    "}\n",
    "parameters {\n",
    "    real a;\n",
    "    real b;\n",
    "}\n",
    "model {\n",
    "    for (n in 1:N){\n",
    "        Y[n] ~ bernoulli_logit(a * X[n] + b);\n",
    "    }\n",
    "}\n",
    "\"\"\""
   ]
  },
  {
   "cell_type": "code",
   "execution_count": 10,
   "metadata": {},
   "outputs": [
    {
     "name": "stderr",
     "output_type": "stream",
     "text": [
      "INFO:pystan:COMPILING THE C++ CODE FOR MODEL anon_model_2c3da65694b518f8553fce4fca97e462 NOW.\n",
      "C:\\Users\\s.takai\\Anaconda3\\envs\\tf\\lib\\site-packages\\Cython\\Compiler\\Main.py:367: FutureWarning: Cython directive 'language_level' not set, using 2 for now (Py2). This will change in a later release! File: C:\\Users\\SF871~1.TAK\\AppData\\Local\\Temp\\tmps7tpl_bi\\stanfit4anon_model_2c3da65694b518f8553fce4fca97e462_2765702249870610187.pyx\n",
      "  tree = Parsing.p_module(s, pxd, full_module_name)\n"
     ]
    }
   ],
   "source": [
    "sm = pystan.StanModel(model_code=stan_model)"
   ]
  },
  {
   "cell_type": "code",
   "execution_count": 11,
   "metadata": {},
   "outputs": [],
   "source": [
    "stan_data = {\"N\": df.shape[0], \"X\": df[\"log10 C\"], \"Y\": df[\"death\"]}"
   ]
  },
  {
   "cell_type": "code",
   "execution_count": 12,
   "metadata": {},
   "outputs": [],
   "source": [
    "fit = sm.sampling(data=stan_data, iter=2000, warmup=500, chains=3, seed=123)"
   ]
  },
  {
   "cell_type": "code",
   "execution_count": 13,
   "metadata": {},
   "outputs": [
    {
     "data": {
      "text/plain": [
       "Inference for Stan model: anon_model_2c3da65694b518f8553fce4fca97e462.\n",
       "3 chains, each with iter=2000; warmup=500; thin=1; \n",
       "post-warmup draws per chain=1500, total post-warmup draws=4500.\n",
       "\n",
       "       mean se_mean     sd   2.5%    25%    50%    75%  97.5%  n_eff   Rhat\n",
       "a     13.73    0.16   3.53   7.81  11.24  13.38  15.77  21.87    492    1.0\n",
       "b     -20.5    0.24   5.36 -32.98 -23.68 -20.02 -16.73  -11.6    493    1.0\n",
       "lp__ -14.97    0.04   1.06 -17.78 -15.41 -14.64 -14.19 -13.89    773    1.0\n",
       "\n",
       "Samples were drawn using NUTS at Sat Feb 23 22:24:37 2019.\n",
       "For each parameter, n_eff is a crude measure of effective sample size,\n",
       "and Rhat is the potential scale reduction factor on split chains (at \n",
       "convergence, Rhat=1)."
      ]
     },
     "execution_count": 13,
     "metadata": {},
     "output_type": "execute_result"
    }
   ],
   "source": [
    "fit"
   ]
  },
  {
   "cell_type": "code",
   "execution_count": 14,
   "metadata": {},
   "outputs": [],
   "source": [
    "a, b = 13.73, -20.5"
   ]
  },
  {
   "cell_type": "code",
   "execution_count": 15,
   "metadata": {},
   "outputs": [
    {
     "name": "stderr",
     "output_type": "stream",
     "text": [
      "WARNING:pystan:Deprecation warning. In future, use ArviZ library (`pip install arviz`)\n"
     ]
    },
    {
     "data": {
      "image/png": "[encoded data removed]",
      "text/plain": [
       "<Figure size 432x288 with 4 Axes>"
      ]
     },
     "metadata": {},
     "output_type": "display_data"
    }
   ],
   "source": [
    "fig = fit.plot()"
   ]
  },
  {
   "cell_type": "code",
   "execution_count": 16,
   "metadata": {},
   "outputs": [],
   "source": [
    "ms_a = fit.extract(\"a\")[\"a\"]\n",
    "ms_b = fit.extract(\"b\")[\"b\"]"
   ]
  },
  {
   "cell_type": "code",
   "execution_count": 17,
   "metadata": {},
   "outputs": [],
   "source": [
    "x = np.arange(1.0, 2.0, 0.01)\n",
    "f = lambda x : 1.0 / (1.0 + np.exp(-x))\n",
    "df_b = pd.DataFrame([])\n",
    "for i in range(x.shape[0]):\n",
    "    df_b[i] = f(ms_a * x[i] + ms_b)"
   ]
  },
  {
   "cell_type": "code",
   "execution_count": 18,
   "metadata": {},
   "outputs": [
    {
     "data": {
      "text/html": [
       "<div>\n",
       "<style scoped>\n",
       "    .dataframe tbody tr th:only-of-type {\n",
       "        vertical-align: middle;\n",
       "    }\n",
       "\n",
       "    .dataframe tbody tr th {\n",
       "        vertical-align: top;\n",
       "    }\n",
       "\n",
       "    .dataframe thead th {\n",
       "        text-align: right;\n",
       "    }\n",
       "</style>\n",
       "<table border=\"1\" class=\"dataframe\">\n",
       "  <thead>\n",
       "    <tr style=\"text-align: right;\">\n",
       "      <th></th>\n",
       "      <th>0</th>\n",
       "      <th>1</th>\n",
       "      <th>2</th>\n",
       "      <th>3</th>\n",
       "      <th>4</th>\n",
       "      <th>5</th>\n",
       "      <th>6</th>\n",
       "      <th>7</th>\n",
       "      <th>8</th>\n",
       "      <th>9</th>\n",
       "      <th>...</th>\n",
       "      <th>90</th>\n",
       "      <th>91</th>\n",
       "      <th>92</th>\n",
       "      <th>93</th>\n",
       "      <th>94</th>\n",
       "      <th>95</th>\n",
       "      <th>96</th>\n",
       "      <th>97</th>\n",
       "      <th>98</th>\n",
       "      <th>99</th>\n",
       "    </tr>\n",
       "  </thead>\n",
       "  <tbody>\n",
       "    <tr>\n",
       "      <th>0</th>\n",
       "      <td>0.000962</td>\n",
       "      <td>0.001123</td>\n",
       "      <td>0.001311</td>\n",
       "      <td>0.001529</td>\n",
       "      <td>0.001784</td>\n",
       "      <td>0.002082</td>\n",
       "      <td>0.002429</td>\n",
       "      <td>0.002834</td>\n",
       "      <td>0.003306</td>\n",
       "      <td>0.003856</td>\n",
       "      <td>...</td>\n",
       "      <td>0.999054</td>\n",
       "      <td>0.999190</td>\n",
       "      <td>0.999306</td>\n",
       "      <td>0.999405</td>\n",
       "      <td>0.999490</td>\n",
       "      <td>0.999563</td>\n",
       "      <td>0.999626</td>\n",
       "      <td>0.999679</td>\n",
       "      <td>0.999725</td>\n",
       "      <td>0.999764</td>\n",
       "    </tr>\n",
       "    <tr>\n",
       "      <th>1</th>\n",
       "      <td>0.002471</td>\n",
       "      <td>0.002824</td>\n",
       "      <td>0.003227</td>\n",
       "      <td>0.003688</td>\n",
       "      <td>0.004214</td>\n",
       "      <td>0.004814</td>\n",
       "      <td>0.005500</td>\n",
       "      <td>0.006283</td>\n",
       "      <td>0.007177</td>\n",
       "      <td>0.008197</td>\n",
       "      <td>...</td>\n",
       "      <td>0.997646</td>\n",
       "      <td>0.997941</td>\n",
       "      <td>0.998198</td>\n",
       "      <td>0.998424</td>\n",
       "      <td>0.998621</td>\n",
       "      <td>0.998793</td>\n",
       "      <td>0.998945</td>\n",
       "      <td>0.999077</td>\n",
       "      <td>0.999192</td>\n",
       "      <td>0.999293</td>\n",
       "    </tr>\n",
       "    <tr>\n",
       "      <th>2</th>\n",
       "      <td>0.008144</td>\n",
       "      <td>0.008923</td>\n",
       "      <td>0.009777</td>\n",
       "      <td>0.010711</td>\n",
       "      <td>0.011734</td>\n",
       "      <td>0.012853</td>\n",
       "      <td>0.014077</td>\n",
       "      <td>0.015416</td>\n",
       "      <td>0.016880</td>\n",
       "      <td>0.018481</td>\n",
       "      <td>...</td>\n",
       "      <td>0.970613</td>\n",
       "      <td>0.973133</td>\n",
       "      <td>0.975441</td>\n",
       "      <td>0.977556</td>\n",
       "      <td>0.979493</td>\n",
       "      <td>0.981266</td>\n",
       "      <td>0.982888</td>\n",
       "      <td>0.984372</td>\n",
       "      <td>0.985729</td>\n",
       "      <td>0.986970</td>\n",
       "    </tr>\n",
       "    <tr>\n",
       "      <th>3</th>\n",
       "      <td>0.031972</td>\n",
       "      <td>0.034502</td>\n",
       "      <td>0.037224</td>\n",
       "      <td>0.040151</td>\n",
       "      <td>0.043299</td>\n",
       "      <td>0.046681</td>\n",
       "      <td>0.050314</td>\n",
       "      <td>0.054214</td>\n",
       "      <td>0.058397</td>\n",
       "      <td>0.062881</td>\n",
       "      <td>...</td>\n",
       "      <td>0.975347</td>\n",
       "      <td>0.977171</td>\n",
       "      <td>0.978864</td>\n",
       "      <td>0.980433</td>\n",
       "      <td>0.981888</td>\n",
       "      <td>0.983237</td>\n",
       "      <td>0.984487</td>\n",
       "      <td>0.985645</td>\n",
       "      <td>0.986718</td>\n",
       "      <td>0.987711</td>\n",
       "    </tr>\n",
       "    <tr>\n",
       "      <th>4</th>\n",
       "      <td>0.002288</td>\n",
       "      <td>0.002596</td>\n",
       "      <td>0.002946</td>\n",
       "      <td>0.003343</td>\n",
       "      <td>0.003793</td>\n",
       "      <td>0.004303</td>\n",
       "      <td>0.004882</td>\n",
       "      <td>0.005538</td>\n",
       "      <td>0.006281</td>\n",
       "      <td>0.007124</td>\n",
       "      <td>...</td>\n",
       "      <td>0.995183</td>\n",
       "      <td>0.995754</td>\n",
       "      <td>0.996257</td>\n",
       "      <td>0.996701</td>\n",
       "      <td>0.997093</td>\n",
       "      <td>0.997438</td>\n",
       "      <td>0.997743</td>\n",
       "      <td>0.998011</td>\n",
       "      <td>0.998247</td>\n",
       "      <td>0.998456</td>\n",
       "    </tr>\n",
       "  </tbody>\n",
       "</table>\n",
       "<p>5 rows × 100 columns</p>\n",
       "</div>"
      ],
      "text/plain": [
       "         0         1         2         3         4         5         6   \\\n",
       "0  0.000962  0.001123  0.001311  0.001529  0.001784  0.002082  0.002429   \n",
       "1  0.002471  0.002824  0.003227  0.003688  0.004214  0.004814  0.005500   \n",
       "2  0.008144  0.008923  0.009777  0.010711  0.011734  0.012853  0.014077   \n",
       "3  0.031972  0.034502  0.037224  0.040151  0.043299  0.046681  0.050314   \n",
       "4  0.002288  0.002596  0.002946  0.003343  0.003793  0.004303  0.004882   \n",
       "\n",
       "         7         8         9   ...        90        91        92        93  \\\n",
       "0  0.002834  0.003306  0.003856  ...  0.999054  0.999190  0.999306  0.999405   \n",
       "1  0.006283  0.007177  0.008197  ...  0.997646  0.997941  0.998198  0.998424   \n",
       "2  0.015416  0.016880  0.018481  ...  0.970613  0.973133  0.975441  0.977556   \n",
       "3  0.054214  0.058397  0.062881  ...  0.975347  0.977171  0.978864  0.980433   \n",
       "4  0.005538  0.006281  0.007124  ...  0.995183  0.995754  0.996257  0.996701   \n",
       "\n",
       "         94        95        96        97        98        99  \n",
       "0  0.999490  0.999563  0.999626  0.999679  0.999725  0.999764  \n",
       "1  0.998621  0.998793  0.998945  0.999077  0.999192  0.999293  \n",
       "2  0.979493  0.981266  0.982888  0.984372  0.985729  0.986970  \n",
       "3  0.981888  0.983237  0.984487  0.985645  0.986718  0.987711  \n",
       "4  0.997093  0.997438  0.997743  0.998011  0.998247  0.998456  \n",
       "\n",
       "[5 rows x 100 columns]"
      ]
     },
     "execution_count": 18,
     "metadata": {},
     "output_type": "execute_result"
    }
   ],
   "source": [
    "df_b.head()"
   ]
  },
  {
   "cell_type": "code",
   "execution_count": 19,
   "metadata": {},
   "outputs": [],
   "source": [
    "low_y50, high_y50 = mstats.mquantiles(df_b, [0.25, 0.75], axis=0)\n",
    "low_y95, high_y95 = mstats.mquantiles(df_b, [0.025, 0.975], axis=0)"
   ]
  },
  {
   "cell_type": "code",
   "execution_count": 20,
   "metadata": {},
   "outputs": [
    {
     "data": {
      "text/plain": [
       "[<matplotlib.lines.Line2D at 0x223e6e78e48>]"
      ]
     },
     "execution_count": 20,
     "metadata": {},
     "output_type": "execute_result"
    },
    {
     "data": {
      "image/png": "[encoded data removed]",
      "text/plain": [
       "<Figure size 432x288 with 1 Axes>"
      ]
     },
     "metadata": {},
     "output_type": "display_data"
    }
   ],
   "source": [
    "plt.scatter(df[\"log10 C\"], df[\"death\"])\n",
    "plt.fill_between(x, low_y95, high_y95, alpha=0.3, color=\"gray\")\n",
    "plt.fill_between(x, low_y50, high_y50, alpha=0.6, color=\"darkgray\")\n",
    "plt.plot(x, f(a * x + b))"
   ]
  },
  {
   "cell_type": "code",
   "execution_count": null,
   "metadata": {},
   "outputs": [],
   "source": []
  }
 ],
 "metadata": {
  "kernelspec": {
   "display_name": "Python 3",
   "language": "python",
   "name": "python3"
  },
  "language_info": {
   "codemirror_mode": {
    "name": "ipython",
    "version": 3
   },
   "file_extension": ".py",
   "mimetype": "text/x-python",
   "name": "python",
   "nbconvert_exporter": "python",
   "pygments_lexer": "ipython3",
   "version": "3.6.8"
  }
 },
 "nbformat": 4,
 "nbformat_minor": 2
}

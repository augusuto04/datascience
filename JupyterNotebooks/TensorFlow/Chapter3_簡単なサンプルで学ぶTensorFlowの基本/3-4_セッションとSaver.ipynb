{
 "cells": [
  {
   "cell_type": "markdown",
   "metadata": {},
   "source": [
    "# 3.4 セッションとSaver"
   ]
  },
  {
   "cell_type": "markdown",
   "metadata": {},
   "source": [
    "## 3.4.1 セッションとSaverの利用方法"
   ]
  },
  {
   "cell_type": "markdown",
   "metadata": {},
   "source": [
    "前節では、グラフの構成要素について紹介しました。中でも変数については、セッションごとに初期化が必要であることを紹介しました。そのため、あるセッションの中で変数を更新したとしても、別のセッションでは、変数の更新結果はセッションをまたいで引き継がれません。\n",
    "\n",
    "このため、学習対象のパラメータを変数として定義すると、同一のセッションを維持している間しか、更新後、つまり学習後の結果を利用することができなくなってしまいます。そこで登場するのがSaverです。Saverを利用すると、変数の値をファイルに書き出したり、ファイルから読み込んだりすることができます。これにより、機械学習モデルを保存したり、別のプロセスで利用できるようになります。"
   ]
  },
  {
   "cell_type": "code",
   "execution_count": 1,
   "metadata": {},
   "outputs": [],
   "source": [
    "import tensorflow as tf"
   ]
  },
  {
   "cell_type": "code",
   "execution_count": 2,
   "metadata": {},
   "outputs": [
    {
     "name": "stdout",
     "output_type": "stream",
     "text": [
      "一回目 b =  2\n",
      "二回目 b =  3\n",
      "-- 新しいセッション --\n",
      "一回目 b =  2\n",
      "二枚目 b =  3\n"
     ]
    }
   ],
   "source": [
    "a = tf.Variable(1, name='a')\n",
    "b = tf.assign(a, a + 1)\n",
    "\n",
    "with tf.Session() as sess:\n",
    "    sess.run(tf.global_variables_initializer())\n",
    "    print('一回目 b = ', sess.run(b))\n",
    "    print('二回目 b = ', sess.run(b))\n",
    "\n",
    "# セッションが変わると元の値に戻ってしまう\n",
    "with tf.Session() as sess:\n",
    "    print('-- 新しいセッション --')\n",
    "    sess.run(tf.global_variables_initializer())\n",
    "    print('一回目 b = ', sess.run(b))\n",
    "    print('二枚目 b = ', sess.run(b))"
   ]
  },
  {
   "cell_type": "markdown",
   "metadata": {},
   "source": [
    "Saverによる変数の保存"
   ]
  },
  {
   "cell_type": "code",
   "execution_count": 3,
   "metadata": {},
   "outputs": [
    {
     "name": "stdout",
     "output_type": "stream",
     "text": [
      "2\n",
      "3\n",
      "INFO:tensorflow:Restoring parameters from model/model.ckpt\n",
      "4\n",
      "5\n"
     ]
    }
   ],
   "source": [
    "a = tf.Variable(1, name='a')\n",
    "b = tf.assign(a, a + 1)\n",
    "\n",
    "saver = tf.train.Saver()\n",
    "with tf.Session() as sess:\n",
    "    sess.run(tf.global_variables_initializer())\n",
    "    print(sess.run(b))\n",
    "    print(sess.run(b))\n",
    "    # 変数の値を model/model.ckpt に保存する\n",
    "    saver.save(sess, 'model/model.ckpt')\n",
    "\n",
    "with tf.Session() as sess:\n",
    "    sess.run(tf.global_variables_initializer())\n",
    "    # model/model.ckpt から変数の値をリストアする\n",
    "    saver.restore(sess, save_path='model/model.ckpt')\n",
    "    print(sess.run(b))\n",
    "    print(sess.run(b))"
   ]
  },
  {
   "cell_type": "code",
   "execution_count": null,
   "metadata": {},
   "outputs": [],
   "source": []
  }
 ],
 "metadata": {
  "kernelspec": {
   "display_name": "Python 3",
   "language": "python",
   "name": "python3"
  },
  "language_info": {
   "codemirror_mode": {
    "name": "ipython",
    "version": 3
   },
   "file_extension": ".py",
   "mimetype": "text/x-python",
   "name": "python",
   "nbconvert_exporter": "python",
   "pygments_lexer": "ipython3",
   "version": "3.6.8"
  }
 },
 "nbformat": 4,
 "nbformat_minor": 2
}

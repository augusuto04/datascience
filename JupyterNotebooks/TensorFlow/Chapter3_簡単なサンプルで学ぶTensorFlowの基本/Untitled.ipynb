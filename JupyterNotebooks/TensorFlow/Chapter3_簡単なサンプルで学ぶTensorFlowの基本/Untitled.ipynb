{
 "cells": [
  {
   "cell_type": "code",
   "execution_count": 2,
   "metadata": {},
   "outputs": [
    {
     "name": "stdout",
     "output_type": "stream",
     "text": [
      "C:\\Users\\s.takai\\.matplotlib\\matplotlibrc\n",
      "['IPAexGothic']\n",
      "C:\\Users\\s.takai\\.matplotlib\n",
      "C:\\Users\\s.takai\\.matplotlib\n"
     ]
    }
   ],
   "source": [
    "import matplotlib\n",
    "print(matplotlib.matplotlib_fname()) #設定ファイルを表示（matplotlibrcは後で作ります）\n",
    "print(matplotlib.rcParams['font.family']) #現在使用しているフォントを表示\n",
    "print(matplotlib.get_configdir()) #設定ディレクトリを表示\n",
    "print(matplotlib.get_cachedir()) #キャッシュディレクトリを表示"
   ]
  },
  {
   "cell_type": "code",
   "execution_count": null,
   "metadata": {},
   "outputs": [],
   "source": []
  },
  {
   "cell_type": "code",
   "execution_count": null,
   "metadata": {},
   "outputs": [],
   "source": []
  }
 ],
 "metadata": {
  "kernelspec": {
   "display_name": "Python 3",
   "language": "python",
   "name": "python3"
  },
  "language_info": {
   "codemirror_mode": {
    "name": "ipython",
    "version": 3
   },
   "file_extension": ".py",
   "mimetype": "text/x-python",
   "name": "python",
   "nbconvert_exporter": "python",
   "pygments_lexer": "ipython3",
   "version": "3.6.8"
  }
 },
 "nbformat": 4,
 "nbformat_minor": 2
}

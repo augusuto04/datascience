{
 "cells": [
  {
   "cell_type": "markdown",
   "metadata": {},
   "source": [
    "# 3.2 データフローグラフの構成要素"
   ]
  },
  {
   "cell_type": "markdown",
   "metadata": {},
   "source": [
    "## 3.2.1 データフローグラフの構成要素とは"
   ]
  },
  {
   "cell_type": "markdown",
   "metadata": {},
   "source": [
    "前述の通り、TensorFlowではデータフローグラフが中心的な役割を果たします。\n",
    "\n",
    "3.1節では、データフローグラフのノードの例として定数や足し算を挙げましたが、それ以外にも様々な種類のノードがあり、それらを組み合わせることで、より複雑なモデルを構築することができるようになります。では、具体的にどういったものがあるのか、ここで整理しておきましょう。"
   ]
  },
  {
   "cell_type": "markdown",
   "metadata": {},
   "source": [
    "### 定数\n",
    "まずは定数です。定数は、はじめに定義したら、値を変更することはできません。ここまで何度か出てきた通り、定数はtf.constantを使って定義します。"
   ]
  },
  {
   "cell_type": "markdown",
   "metadata": {},
   "source": [
    "### 変数\n",
    "変数はtf.Variableを使って定義します。変数は定数と違い、値を変更することができます。学習対象のパラメータを定数ではなく変数として定義しておくことで、パラメータの更新、つまり学習が可能になります。"
   ]
  },
  {
   "cell_type": "code",
   "execution_count": 2,
   "metadata": {},
   "outputs": [],
   "source": [
    "import tensorflow as tf"
   ]
  },
  {
   "cell_type": "code",
   "execution_count": 3,
   "metadata": {},
   "outputs": [
    {
     "name": "stdout",
     "output_type": "stream",
     "text": [
      "一回目: [c, a] = [2, 2]\n",
      "二回目: [c, a] = [3, 3]\n"
     ]
    }
   ],
   "source": [
    "a = tf.Variable(1, name='a')\n",
    "b = tf.Variable(1, name='b')\n",
    "c = tf.assign(a, a + b)\n",
    "\n",
    "with tf.Session() as sess:\n",
    "    sess.run(tf.global_variables_initializer())\n",
    "    print('一回目: [c, a] =', sess.run([c, a]))\n",
    "    # 変数cが更新されている\n",
    "    print('二回目: [c, a] =', sess.run([c, a]))"
   ]
  },
  {
   "cell_type": "markdown",
   "metadata": {},
   "source": [
    "tf.assignは、値を代入して、代入した結果を返す操作を表します。この例では、「aにa+bの値を代入して、代入後のaの値を返す」という操作になっています。\n",
    "\n",
    "出力結果を見ると、sess.runが呼ばれるたびにc（当然aも）が更新されているのが分かります。\n",
    "\n",
    "aではなくbにtf.assignを適用しようとすると、bは定数なので、更新できないというエラーになります。\n",
    "\n",
    "もう1点、この例で新しいのがtf.global_variables_initializerですが、これはすべての変数を初期化する操作を表しています。変数を利用する場合は、セッションのはじめに必ず初期化しなければいけません。変数を指定して初期化するtf.initialize_variablesというメソッドもあるので、そちらを利用してもよいのですが、実際にはtf.global_variables_initializerを利用して、すべての変数を一括で初期化することが多いです。"
   ]
  },
  {
   "cell_type": "markdown",
   "metadata": {},
   "source": [
    "### プレースホルダー\n",
    "プレースホルダーは、様々な値を受け付けることのできる「箱」のようなもので、tf.placeholderを使って定義します。値が未定な状態でグラフを構築し、実行時に具体的な値を指定することができます。\n",
    "\n",
    "主に入力データの部分で利用します。"
   ]
  },
  {
   "cell_type": "code",
   "execution_count": 5,
   "metadata": {},
   "outputs": [
    {
     "name": "stdout",
     "output_type": "stream",
     "text": [
      "a + b =  2\n"
     ]
    }
   ],
   "source": [
    "a = tf.placeholder(dtype=tf.int32, name='a')\n",
    "b = tf.constant(1, name='b')\n",
    "c = a + b\n",
    "\n",
    "with tf.Session() as sess:\n",
    "    print('a + b = ', sess.run(c, feed_dict={a: 1}))"
   ]
  },
  {
   "cell_type": "markdown",
   "metadata": {},
   "source": [
    "### 演算\n",
    "定数、変数、プレースホルダーのほかに、足し算や掛け算といった演算もグラフのノードとして表現されます。"
   ]
  },
  {
   "cell_type": "code",
   "execution_count": 6,
   "metadata": {},
   "outputs": [
    {
     "name": "stdout",
     "output_type": "stream",
     "text": [
      "a + b =  5\n",
      "a * b =  6\n"
     ]
    }
   ],
   "source": [
    "a = tf.constant(2, name='a')\n",
    "b = tf.constant(3, name='b')\n",
    "c = tf.add(a, b)\n",
    "d = tf.multiply(a, b)\n",
    "\n",
    "with tf.Session() as sess:\n",
    "    print('a + b = ', sess.run(c))\n",
    "    print('a * b = ', sess.run(d))"
   ]
  },
  {
   "cell_type": "code",
   "execution_count": null,
   "metadata": {},
   "outputs": [],
   "source": []
  }
 ],
 "metadata": {
  "kernelspec": {
   "display_name": "Python 3",
   "language": "python",
   "name": "python3"
  },
  "language_info": {
   "codemirror_mode": {
    "name": "ipython",
    "version": 3
   },
   "file_extension": ".py",
   "mimetype": "text/x-python",
   "name": "python",
   "nbconvert_exporter": "python",
   "pygments_lexer": "ipython3",
   "version": "3.6.8"
  }
 },
 "nbformat": 4,
 "nbformat_minor": 2
}

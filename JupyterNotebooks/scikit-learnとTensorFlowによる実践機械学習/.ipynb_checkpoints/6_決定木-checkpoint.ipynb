{
 "cells": [
  {
   "cell_type": "markdown",
   "metadata": {},
   "source": [
    "# 6章 決定木"
   ]
  },
  {
   "cell_type": "markdown",
   "metadata": {},
   "source": [
    "SVMと同様に**決定木**(decision tree)は、分類と回帰の両方のタスクを実行できる柔軟性の高い機械学習アルゴリズムである。決定木は非常に強力で、複雑なデータセットに適合できる。たとえば、2章ではカリフォルニアの住宅価格データセットを使ってDecisionTreeegressorを訓練したが、うまく適合した(実際には、それを通り過ぎて過学習していた)。\n",
    "\n",
    "決定木は、今日ある機械学習アルゴリズムのなかでも有数の力を持つファンダムフォレスト("
   ]
  }
 ],
 "metadata": {
  "kernelspec": {
   "display_name": "Python 3",
   "language": "python",
   "name": "python3"
  },
  "language_info": {
   "codemirror_mode": {
    "name": "ipython",
    "version": 3
   },
   "file_extension": ".py",
   "mimetype": "text/x-python",
   "name": "python",
   "nbconvert_exporter": "python",
   "pygments_lexer": "ipython3",
   "version": "3.6.8"
  }
 },
 "nbformat": 4,
 "nbformat_minor": 2
}

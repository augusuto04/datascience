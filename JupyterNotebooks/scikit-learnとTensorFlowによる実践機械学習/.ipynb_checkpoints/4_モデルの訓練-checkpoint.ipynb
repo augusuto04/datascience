{
 "cells": [
  {
   "cell_type": "markdown",
   "metadata": {},
   "source": [
    "# 4章 モデルの訓練"
   ]
  },
  {
   "cell_type": "markdown",
   "metadata": {},
   "source": [
    "## 4.1 線形回帰"
   ]
  },
  {
   "cell_type": "markdown",
   "metadata": {},
   "source": [
    "1章では、\n",
    "$$\n",
    "    {\\rm life\\_satisfaction} = \\theta_0 + \\theta_1 \\times {\\rm GDP\\_per\\_capita}\n",
    "$$\n",
    "という「暮らしへの満足度」の単純な回帰モデルを検討した。\n",
    "\n",
    "このモデルは、GDP_per_capitaという入力特徴量のは線形関数に過ぎないものだった。$\\theta_0$と$\\theta_1$はモデルのパラメータである。\n",
    "\n",
    "より一般的に、線形モデルとは、式4-1に示すように、入力特徴量の加重総和に、**バイアス項**(bias term、**切片項**: intercept termとも呼ばれる)という定数を加えたものである。\n",
    "$$\n",
    "    \\hat{y} = \\theta_0 + \\theta_1 x_1 + \\theta_2 x_2 + \\cdots + \\theta_n x_n \\tag{4-1}\n",
    "$$\n",
    "- $\\hat{y}$は予測された値。\n",
    "- $n$は特徴量数。\n",
    "- $x_i$は$i$番目の特徴量の値。\n",
    "- $\\theta_j$は$j$番目のモデルのパラメータ(バイアス項の$\\theta_0$特徴量の重みの$\\theta_1$、$\\theta_2$、...、$\\theta_n$を含む)\n",
    "\n",
    "これは、式4-2に示すように、ベクトル形式を使えばもっと簡潔にかくことができる。\n",
    "$$\n",
    "    \\hat{y} = h_{\\theta}(\\pmb{x}) = \\theta^{\\rm T} \\cdot \\pmb{x} \\tag{4-2}\n",
    "$$\n",
    "- $\\theta$はモデルの**パラメータベクトル**(parameter vector) (バイアス項の$\\theta_0$と$\\theta_1$から$\\theta_n$までの特徴量の重みを含む)\n",
    "- $\\theta^{\\rm T}$は$\\theta$の転置(列ベクトルを行ベクトルに変換したもの)\n",
    "- $\\pmb{x}$はインスタンスの**特徴量ベクトル**(feature vector) ($x_0$から$x_n$までを含む。ただし、$x_0$は常に1)。\n",
    "- $\\theta^{\\rm T} \\cdot \\pmb{x}$は$\\theta^{\\rm T}$と$\\pmb{x}$のドット積。\n",
    "- $h_{\\theta}$はモデルパラメータ$\\theta$を使った仮説関数。\n",
    "\n",
    "これが線形回帰モデルである。では、線形回帰モデルをどのようにして訓練したらよいのだろうか。モデルの訓練とは、モデルが訓練セットにもっとも適合するようにパラメータを設定することだということを思い出そう。そのためには、まず、モデルと訓練データがどの程度適合しているのかを測定する必要がある。2章で説明したように、回帰モデルのもっとも一般的な性能指標は、二乗平均平方根誤差(Root Mean Square Error: RMSE)である。そのため、線形回帰モデルの訓練では、RMSEを最小にする$\\theta$の値を見つける必要がある。実際にはRMSEを最小にするよりも平均二乗誤差(mean square error: MSE)を最小にする方が簡単で、結果も同じになる(関数を最小にする値は、関数の平方根も最小にする)。\n",
    "\n",
    "訓練セット$\\pmb{X}$に対する線形回帰仮説$h_{\\theta}$のMSEは、式4-3を使って計算できる。\n",
    "$$\n",
    "    {\\rm MSE}(\\pmb{X}, h_{\\theta})\n",
    "        = \\frac{1}{m} \\sum^m_{i=1} \\left(\\theta^{\\rm T} \\cdot \\pmb{x}^{(i)} - y^{(i)} \\right)^2 \\tag{4-3}\n",
    "$$\n",
    "記法の大半は、2章の「記法」というコラムで説明した。唯一の違いは、モデルがベクトル$\\theta$でパラメータ化されていることをはっきりさせるために、ただの$h$ではなく、$h_{\\theta}$と表記しているところだけだ。これは、$ {\\rm MSE}(\\pmb{X}, h_{\\theta}) $と書けば単純化される。"
   ]
  },
  {
   "cell_type": "markdown",
   "metadata": {},
   "source": [
    "## 4.1.1 正規方程式"
   ]
  },
  {
   "cell_type": "markdown",
   "metadata": {},
   "source": [
    "コスト関数を最小にする$\\theta$の値を見つけるための**閉形式解**(closed-form solution)がある。言い換えれば、結果を直接与えてくれるような数学的方程式ということである。これを**正規方程式**(normal equation、式4-4)と呼ぶ。\n",
    "$$\n",
    "    \\hat{\\theta} = (\\pmb{X}^{\\rm T} \\cdot \\pmb{X})^{-1} \\cdot \\pmb{X}^{\\rm T} \\cdot \\pmb{y} \\tag{4-4}\n",
    "$$\n",
    "- $\\hat{\\theta}$はコスト関数を最小にする$\\theta$の値。\n",
    "- $y$は$y^{(i)}$から$y^{(m)}$までのターゲット値を格納するベクトル。\n",
    "\n",
    "では、この方程式をテストするために次図のような線形に見えるデータを生成しよう。"
   ]
  },
  {
   "cell_type": "code",
   "execution_count": 1,
   "metadata": {},
   "outputs": [],
   "source": [
    "import numpy as np"
   ]
  },
  {
   "cell_type": "code",
   "execution_count": 2,
   "metadata": {},
   "outputs": [],
   "source": [
    "X = 2 * np.random.rand(100, 1)\n",
    "y = 4 + 3 * X + np.random.randn(100, 1)"
   ]
  },
  {
   "cell_type": "code",
   "execution_count": 3,
   "metadata": {},
   "outputs": [],
   "source": [
    "import matplotlib.pyplot as plt\n",
    "%matplotlib inline"
   ]
  },
  {
   "cell_type": "code",
   "execution_count": 4,
   "metadata": {},
   "outputs": [
    {
     "data": {
      "image/png": "[encoded data removed]",
      "text/plain": [
       "<Figure size 432x288 with 1 Axes>"
      ]
     },
     "metadata": {
      "needs_background": "light"
     },
     "output_type": "display_data"
    }
   ],
   "source": [
    "plt.plot(X, y, 'o')\n",
    "plt.xlabel('$x_1$')\n",
    "plt.ylabel('y')\n",
    "plt.show()"
   ]
  },
  {
   "cell_type": "markdown",
   "metadata": {},
   "source": [
    "そして、正規方程式を使って$\\hat{\\theta}$を計算する。NumPyの線形代数モジュール(np.linalg)のinv()関数を使って逆行列を計算し、dot()メソッドを使って行列の乗算を行う。"
   ]
  },
  {
   "cell_type": "code",
   "execution_count": 5,
   "metadata": {},
   "outputs": [],
   "source": [
    "X_b = np.c_[np.ones((100, 1)), X] # 各インスタンスにx0=1を加える\n",
    "theta_best = np.linalg.inv(X_b.T.dot(X_b)).dot(X_b.T).dot(y)"
   ]
  },
  {
   "cell_type": "markdown",
   "metadata": {},
   "source": [
    "データを生成するために実際に使った関数は、$y=4+3x_1+{\\rm ガウスノイズ}$である。方程式が見つけた値を見てみよう。"
   ]
  },
  {
   "cell_type": "code",
   "execution_count": 6,
   "metadata": {},
   "outputs": [
    {
     "data": {
      "text/plain": [
       "array([[4.03548209],\n",
       "       [2.89116693]])"
      ]
     },
     "execution_count": 6,
     "metadata": {},
     "output_type": "execute_result"
    }
   ],
   "source": [
    "theta_best"
   ]
  },
  {
   "cell_type": "markdown",
   "metadata": {},
   "source": [
    "$\\theta_0 = 3.585$と$\\theta_1 = 3.345$ではなく、$\\theta_0 = 4$と$\\theta_1 = 3$の方がよかったが、十分近い。しかし、ノイズのおかげで元の関数のパラメータを復元することはできなくなっている。\n",
    "\n",
    "これで$\\hat{\\theta}$を使って予測できる。"
   ]
  },
  {
   "cell_type": "code",
   "execution_count": 7,
   "metadata": {},
   "outputs": [
    {
     "data": {
      "text/plain": [
       "array([[4.03548209],\n",
       "       [9.81781595]])"
      ]
     },
     "execution_count": 7,
     "metadata": {},
     "output_type": "execute_result"
    }
   ],
   "source": [
    "X_new = np.array([[0], [2]])\n",
    "X_new_b = np.c_[np.ones((2, 1)), X_new] # 各インスタンスにx0=1を加える\n",
    "y_predict = X_new_b.dot(theta_best)\n",
    "y_predict"
   ]
  },
  {
   "cell_type": "markdown",
   "metadata": {},
   "source": [
    "このモデルの予測をプロットしてみよう。"
   ]
  },
  {
   "cell_type": "code",
   "execution_count": 8,
   "metadata": {},
   "outputs": [
    {
     "data": {
      "image/png": "[encoded data removed]",
      "text/plain": [
       "<Figure size 432x288 with 1 Axes>"
      ]
     },
     "metadata": {
      "needs_background": "light"
     },
     "output_type": "display_data"
    }
   ],
   "source": [
    "plt.plot(X_new, y_predict, \"r-\")\n",
    "plt.plot(X, y, \"b.\")\n",
    "plt.axis([0, 2, 0, 15])\n",
    "plt.show()"
   ]
  },
  {
   "cell_type": "markdown",
   "metadata": {},
   "source": [
    "scikit-learnを使った同じ意味のコードは、次のようになる。"
   ]
  },
  {
   "cell_type": "code",
   "execution_count": 9,
   "metadata": {},
   "outputs": [],
   "source": [
    "from sklearn.linear_model import LinearRegression"
   ]
  },
  {
   "cell_type": "code",
   "execution_count": 10,
   "metadata": {},
   "outputs": [
    {
     "data": {
      "text/plain": [
       "(array([4.03548209]), array([[2.89116693]]))"
      ]
     },
     "execution_count": 10,
     "metadata": {},
     "output_type": "execute_result"
    }
   ],
   "source": [
    "lin_reg = LinearRegression()\n",
    "lin_reg.fit(X, y)\n",
    "lin_reg.intercept_, lin_reg.coef_"
   ]
  },
  {
   "cell_type": "code",
   "execution_count": 11,
   "metadata": {},
   "outputs": [
    {
     "data": {
      "text/plain": [
       "array([[4.03548209],\n",
       "       [9.81781595]])"
      ]
     },
     "execution_count": 11,
     "metadata": {},
     "output_type": "execute_result"
    }
   ],
   "source": [
    "lin_reg.predict(X_new)"
   ]
  },
  {
   "cell_type": "markdown",
   "metadata": {},
   "source": [
    "## 4.1.2 計算量"
   ]
  },
  {
   "cell_type": "markdown",
   "metadata": {},
   "source": [
    "正規方程式は、$\\pmb{X}^{\\rm T} \\cdot \\pmb{X}$の逆行列を計算する。それは$n \\times n$の行列である($n$は特徴量の数)。このような行列の逆行列の計算量は、一般に$O\\,(n^{2.4})$から$O\\,(n^3)$である(実装によって異なる)。言い換えれば、特徴量の数が倍になると、計算時間は$2^{2.4}=5.3$から$2^3=8$倍になる。\n",
    "\n",
    "しかし、正規方程式は、訓練セットのインスタンス数に対しては線形であり$O\\,(m)$、そのため大規模な訓練セットでも、メモリに収まる限り、効率よく処理できる。\n",
    "\n",
    "また、訓練後の線形回帰モデル(正規方程式を使った場合でも、ほかのアルゴリズムを使った場合でも)は、非常に高速に予測する。計算量は、予測したいインスタンス数に対しても、特徴量数に対しても2倍になったりしても、予測にかかる時間はおおよそ2倍になるだけである。\n",
    "\n",
    "では次に、特徴量が非常に大きい場合や、訓練インスタンスが多すぎてメモリに収まり切らないときに適している正規方程式とはまったく異なる線形回帰の訓練方法を見てみよう。"
   ]
  },
  {
   "cell_type": "markdown",
   "metadata": {},
   "source": [
    "## 4.2 勾配降下法"
   ]
  },
  {
   "cell_type": "markdown",
   "metadata": {},
   "source": [
    "**勾配降下法**(gradient descent)は、非常に広い範囲の問題の最適な解を見つけられる汎用性が高い最適化アルゴリズムである。勾配降下法の一般的な考え方は、コスト関数を最小にするために、パラメータを繰り返し操作することである。\n",
    "\n",
    "山のなかで濃霧のために迷子になってしまったとする。わかるのは足もとの地面の傾斜だけだ。谷底にいち早く到達するためには、もっとも急な方向に傾斜を降りていくとよい。勾配降下法はまさにそれを行う。パラメータベクトル$\\theta$について誤差関数の局所的な勾配を測定し、下降の方向に進む。勾配が0になれば、最小値に達したということだ。\n",
    "\n",
    "具体的には、$\\theta$を無作為な値で初期化し(これを**ランダム初期化**: random initializetionと呼ぶ)、毎回コスト関数(たとえば、MSE)が小さくなるように、小さなステップでパラメータを動かしていく。最小値に**収束**(converge)するまでそれを繰り返す。\n",
    "\n",
    "勾配降下法で重要なパラメータのひとつは、**学習率**(learning rate)ハイパーパラメータで定義されるステップのサイズだ。学習率が小さすぎると、収束までの反復数が増え、時間がかかることになる。\n",
    "\n",
    "それに対し、学習率が大きすぎると谷間を挟んで反対側の斜面に飛びつき、最初よりも高い位置に行ってしまう場合さえある。学習率を大きくすればするほど、アルゴリズムは発散してよいソリューションを見つけられなくなる。\n",
    "\n",
    "最後に、どのコスト関数も好都合な丼型をしているわけではない。穴、尾根、台地、その他あらゆるタイプの不規則性が入り込んでいると、最小値への収束は非常に難しくなる。無作為な初期化によってアルゴリズムがスタートすると、全体の最小値よりも見劣りのする局所的な最小値で収束してしまうことがある。また、台地を通り過ぎるために非常に長い時間がかかる、諦めるのが早すぎると、全体の最小値に到達できないこともある。\n",
    "\n",
    "幸い、線形回帰モデルのMSEコスト関数は**凸関数**(convex function)であり、曲線上の任意の2点を選んで線分を引いても決して曲線と交わることはない。そのため、局所的な最小値は存在せず、全体の最小値がひとつあるだけだ。また、このMSEコスト関数は、急激な傾きの変化がない連続関数でもある。このふたつの事実には大きな意味がある。勾配降下法は、かならず全体の最小値に近づくことができるのである(学習率が大きすぎず、長い時間待つなら)。"
   ]
  },
  {
   "cell_type": "markdown",
   "metadata": {},
   "source": [
    "## 4.2.1 バッチ勾配降下法"
   ]
  },
  {
   "cell_type": "markdown",
   "metadata": {},
   "source": [
    "勾配降下法を実装するためには、個々のモデルパラメータ$\\theta_j$についてコスト関数の勾配を計算する必要がある。つまり、$\\theta_j$をほんのわずか変更すると、コスト関数がどれくらい変化するかを計算しなければならない。これを**偏微分**(partial derivative)と呼ぶ。これは、「山道を東に向かうとき、傾斜はどれくらいになるか」と尋ねてから、次に北に向かう場合について(3次元以上の世界を想像できるなら、さらにほかのあらゆる方向に向かう場合について)尋ねるのと同じようなものである。式4-5は、$\\frac{\\partial}{\\partial \\theta_j}{\\rm MSE}(\\theta)$と記述されるパラメータ$\\theta_j$についてのコスト関数の偏微分を計算する。\n",
    "$$\n",
    "    \\frac{\\partial}{\\partial \\theta_j}{\\rm MSE}(\\theta)\n",
    "        = \\frac{2}{m} \\sum^{m}_{i=1} \\left( \n",
    "        \\theta^{\\rm T} \\cdot \\pmb{x}^{(i)} - y^{(i)} \\right) x_j^{(i)} \\tag{4-5}\n",
    "$$\n",
    "こえらの偏微分を個別に計算しなくても、式4-6を使えば、全部をまとめて計算できる。$\\nabla_{\\theta}{\\rm MSE}(\\theta)$と記述される勾配ベクトル(gradient vector)には、コスト関数のあらゆる偏微分が含まれる(個々のモデルパラメータごとにひとつずつ)。\n",
    "$$\n",
    "    \\nabla_{\\theta}{\\rm MSE}(\\theta) = \\left(\n",
    "        \\begin{array}{c}\n",
    "            \\frac{\\partial}{\\partial \\theta_0}{\\rm MSE}(\\theta) \\\\\n",
    "            \\frac{\\partial}{\\partial \\theta_1}{\\rm MSE}(\\theta) \\\\\n",
    "            \\vdots \\\\\n",
    "            \\frac{\\partial}{\\partial \\theta_n}{\\rm MSE}(\\theta) \\\\\n",
    "        \\end{array}\n",
    "    \\right) = \\frac{2}{m} \\pmb{X}^{\\rm T} \\cdot (\\pmb{X} \\cdot \\theta - \\pmb{y}) \\tag{4-6}\n",
    "$$\n",
    "勾配ベクトルを得たとき、全体として上を向いているなら、逆の方向に向かえば下に向かう。これは、$\\theta$から$\\nabla_{\\theta}{\\rm MSE}(\\theta)$を引くということだ。ここで学習率の$\\eta$倍すると、勾配を下るステップの大きさがわかる。\n",
    "$$\n",
    "    \\theta^{\\rm(next step)} = \\theta - \\eta \\nabla_{\\theta}{\\rm MSE}(\\theta) \\tag{4-7}\n",
    "$$\n",
    "このアルゴリズムのおおよその実装を見てみよう。"
   ]
  },
  {
   "cell_type": "code",
   "execution_count": 12,
   "metadata": {},
   "outputs": [],
   "source": [
    "eta = 0.1 # 学習率\n",
    "n_iterations = 1000\n",
    "m = 100\n",
    "\n",
    "theta = np.random.randn(2, 1) # 無作為な初期値\n",
    "\n",
    "for iteration in range(n_iterations):\n",
    "    gradients = 2 / m * X_b.T.dot(X_b.dot(theta) - y)\n",
    "    theta = theta - eta * gradients"
   ]
  },
  {
   "cell_type": "markdown",
   "metadata": {},
   "source": [
    "これはそれほど難しい話ではない。得られたthetaを見てみよう。"
   ]
  },
  {
   "cell_type": "code",
   "execution_count": 13,
   "metadata": {},
   "outputs": [
    {
     "data": {
      "text/plain": [
       "array([[4.03548209],\n",
       "       [2.89116693]])"
      ]
     },
     "execution_count": 13,
     "metadata": {},
     "output_type": "execute_result"
    }
   ],
   "source": [
    "theta"
   ]
  },
  {
   "cell_type": "markdown",
   "metadata": {},
   "source": [
    "なんと、これは正規方程式が見つけた値とまったく同じだ。勾配降下法は、完璧に機能したのである。しかし、学習率$\\eta$として別の値を使ったらどうなるだろうか。次図は、3種類の異なる学習率を使った勾配降下法の最初の10ステップを示したものである(破線は、出発点を示している)。"
   ]
  },
  {
   "cell_type": "code",
   "execution_count": 30,
   "metadata": {},
   "outputs": [],
   "source": [
    "theta_path_bgd = []\n",
    "\n",
    "def plot_gradient_descent(theta, eta, theta_path=None):\n",
    "    m = len(X_b)\n",
    "    plt.plot(X, y, \"b.\")\n",
    "    n_iterations = 1000\n",
    "    for iteration in range(n_iterations):\n",
    "        if iteration < 10:\n",
    "            y_predict = X_new_b.dot(theta)\n",
    "            style = \"b-\" if iteration > 0 else \"r--\"\n",
    "            plt.plot(X_new, y_predict, style)\n",
    "        gradients = 2/m * X_b.T.dot(X_b.dot(theta) - y)\n",
    "        theta = theta - eta * gradients\n",
    "        if theta_path is not None:\n",
    "            theta_path.append(theta)\n",
    "    plt.xlabel(\"$x_1$\", fontsize=18)\n",
    "    plt.axis([0, 2, 0, 15])\n",
    "    plt.title(r\"$\\eta = {}$\".format(eta), fontsize=16)"
   ]
  },
  {
   "cell_type": "code",
   "execution_count": 32,
   "metadata": {},
   "outputs": [
    {
     "data": {
      "image/png": "[encoded data removed]",
      "text/plain": [
       "<Figure size 720x288 with 3 Axes>"
      ]
     },
     "metadata": {
      "needs_background": "light"
     },
     "output_type": "display_data"
    }
   ],
   "source": [
    "np.random.seed(42)\n",
    "theta = np.random.randn(2,1)  # random initialization\n",
    "\n",
    "plt.figure(figsize=(10,4))\n",
    "plt.subplot(131); plot_gradient_descent(theta, eta=0.02)\n",
    "plt.ylabel(\"$y$\", rotation=0, fontsize=18)\n",
    "plt.subplot(132); plot_gradient_descent(theta, eta=0.1, theta_path=theta_path_bgd)\n",
    "plt.subplot(133); plot_gradient_descent(theta, eta=0.5)\n",
    "plt.show()"
   ]
  },
  {
   "cell_type": "markdown",
   "metadata": {},
   "source": [
    "左のグラフは学習率が低すぎる。アルゴリズムは最終的に解にたどり着くだろうが、時間がかかる。中央のグラフの学習率はよい感じに見える。数回イテレーションを繰り返しただけで、すでに回に収束している。右のグラフは学習率が高すぎる。アルゴリズムは発散し、あちこち飛び回った挙句、実際にはステップを踏むごとに解から離れていく。\n",
    "\n",
    "よい学習率を見つけるためには、グリッドサーチを使う。しかし、時間がかかってなかなか収束しないモデルをグリッドサーチが取り除けるように、反復回数に制限を加えるとよい。\n",
    "\n",
    "では、その反復回数はどのようにして設定すればよいだろうか。低すぎなければ、アルゴリズムが止まったときでも、最適な解からは遠くかけ離れたところにいるだろう。しかし、高すぎればモデルパラメータはもう変わらなくなっているのに、時間を無駄にすることになる。簡単なのは、反復回数を非常に大きく設定しつつ、勾配ベクトルが小さくなったら(つまり、ノルムが許容誤差$\\epsilon$という小さな値よりも小さくなったら)、アルゴリズムを中止することだ。勾配ベクトルが小さいということは、勾配降下法が最小値に(ほとんど)到達しているということである。"
   ]
  },
  {
   "cell_type": "markdown",
   "metadata": {},
   "source": [
    "## 4.2.2 確率的勾配降下法"
   ]
  },
  {
   "cell_type": "markdown",
   "metadata": {},
   "source": [
    "バッチ勾配降下法の最大の問題は、勾配を計算するために各ステップで訓練セットを全部つかうため、訓練セットが大きいときには計算速度が極端に遅くなることだ。**確率的勾配降下法**(stochastic gradient descent: SGD)は、逆の極端に走り、各ステップで訓練セットから無作為にひとつのインスタンスを選び出し、そのインスタンスだけを使って勾配を計算する。当然ながら、イテレーションごとに操作するデータがごくわずかなので、このアルゴリズムはバッチ勾配降下法と比べて非常に高速になる。また、イテレーションごとにメモリに入れておかなえればならないものが1個のインスタンスだけなので、巨大な訓練セットを訓練できる(SGDは、アウトオブコアアルゴリズムとして実装できる)。\n",
    "\n",
    "その一方で、確率的(つまり無作為)な性質を持つため、このアルゴリズムはバッチ勾配降下法と比べてかなり不規則になる。コスト関数は、最小値に達するまでに緩やかに小さくなっていくのではなく、上下に動きながら、平均的に減っていくだけである。時間とともに最小値に非常に近づくが、そこに到達すると上下にはねまわり、1箇所に落ち着くことがない。そのため、アルゴリズムが止まったときの最終的なパラメータは、十分よいものだが最適でない。\n",
    "\n",
    "コスト関数がかなり不規則なとき、このような動作のために局所的な最小値の外に飛び出しやすくなるので、バッチ勾配降下法よりも確率的勾配降下法の方が全体の最小値を見つけられる確率が上がる。\n",
    "\n",
    "つまり、無作為性は局所的な最小値から逃れるためにはよいが、最小値に落ち着かない可能性があるという点ではよくない。このジレンマを解決するために、学習率を少しずつ小さくするという方法がある。大きなステップでスタートし(前進のペースを上げ、局所的な最小値から逃れるためには役に立つ)、だんだんステップを小さくしていくと、全体の最小値で止まれるようになる。このプロセスは、溶けた金属を少しずつ冷やしていく焼きなましのプロセスに似ているので、(疑似)**焼きなまし法**(simulated annealing)と呼ばれている。各イテレーションの学習率を決める関数を**学習スケジュール**(learning schedule)と呼ぶ。学習率の下げ方が急激すぎると、局所的な最小値に引っかかったり、最小値まで到達していないのに止まってしまったりする危険がある。それに対し、学習率の下げ方が緩やかすぎると、長い間最小値の前後を飛び回り、早い段階で訓練を停止すると、最適とは言えないよな解しか得られない危険がある。\n",
    "\n",
    "次のコードは、単純な学習スケジュールを使って確率的勾配法を実装している。"
   ]
  },
  {
   "cell_type": "code",
   "execution_count": 14,
   "metadata": {},
   "outputs": [],
   "source": [
    "n_epochs = 50\n",
    "t0, t1 = 5, 50 # 学習スケジュールのハイパーパラメータ\n",
    "\n",
    "def learning_schedule(t):\n",
    "    return t0 / (t + t1)\n",
    "\n",
    "theta = np.random.randn(2, 1) # 無作為な初期値\n",
    "\n",
    "for epoch in range(n_epochs):\n",
    "    for i in range(m):\n",
    "        random_index = np.random.randint(m)\n",
    "        xi = X_b[random_index:random_index + 1]\n",
    "        yi = y[random_index:random_index + 1]\n",
    "        gradients = 2 * xi.T.dot(xi.dot(theta) - yi)\n",
    "        eta = learning_schedule(epoch * m + i)\n",
    "        theta = theta - eta * gradients"
   ]
  },
  {
   "cell_type": "markdown",
   "metadata": {},
   "source": [
    "習慣として、$m$回のイテレーションを1ラウンドとし、各ラウンドを**エポック**(epoch)と呼ぶ。バッチ勾配降下法のコードが訓練セット全体を対象とする計算を1,000回繰り返したのに対し、このコードは訓練セットを50回処理するだけでかなりよい解にたどり着く。"
   ]
  },
  {
   "cell_type": "code",
   "execution_count": 15,
   "metadata": {},
   "outputs": [
    {
     "data": {
      "text/plain": [
       "array([[4.03724971],\n",
       "       [2.84030847]])"
      ]
     },
     "execution_count": 15,
     "metadata": {},
     "output_type": "execute_result"
    }
   ],
   "source": [
    "theta"
   ]
  },
  {
   "cell_type": "markdown",
   "metadata": {},
   "source": [
    "インスタンスが無作為に選ばれるため、一部のインスタンスはエポックのなかで複数回選ばれることがあるのに対し、ほかのインスタンスは全然選ばれないことがあることに注意しよう。各インスタンスですべてのインスタンスを処理するようにしたければ、訓練セットをシャッフルしてからインスタンスを逐次的に取り出し、終わったら再びシャッフルするという方法もある。しかし、この方法は、一般に収束まで余分に時間がかかる。\n",
    "\n",
    "scikit-learnを使っていてSGDで線形回帰を行いたい場合には、デフォルトで二乗誤差コスト関数に最適化されている。SGDRegressorクラスを使うことができる。次のコードは、学習率0.1(eta0=0.1)からスタートし、デフォルト学習スケジュール(先ほどのものとは異なる)を使って、正則化なし(penalty=None。正則化についてはあとで詳しく説明する)で50エポックを実行する。"
   ]
  },
  {
   "cell_type": "code",
   "execution_count": 16,
   "metadata": {},
   "outputs": [],
   "source": [
    "from sklearn.linear_model import SGDRegressor"
   ]
  },
  {
   "cell_type": "code",
   "execution_count": 17,
   "metadata": {},
   "outputs": [
    {
     "name": "stderr",
     "output_type": "stream",
     "text": [
      "C:\\Users\\s.takai\\Anaconda3\\envs\\tf\\lib\\site-packages\\sklearn\\linear_model\\stochastic_gradient.py:152: DeprecationWarning: n_iter parameter is deprecated in 0.19 and will be removed in 0.21. Use max_iter and tol instead.\n",
      "  DeprecationWarning)\n"
     ]
    },
    {
     "data": {
      "text/plain": [
       "SGDRegressor(alpha=0.0001, average=False, early_stopping=False, epsilon=0.1,\n",
       "       eta0=0.1, fit_intercept=True, l1_ratio=0.15,\n",
       "       learning_rate='invscaling', loss='squared_loss', max_iter=None,\n",
       "       n_iter=50, n_iter_no_change=5, penalty=None, power_t=0.25,\n",
       "       random_state=None, shuffle=True, tol=None, validation_fraction=0.1,\n",
       "       verbose=0, warm_start=False)"
      ]
     },
     "execution_count": 17,
     "metadata": {},
     "output_type": "execute_result"
    }
   ],
   "source": [
    "sgd_reg = SGDRegressor(n_iter=50, penalty=None, eta0=0.1)\n",
    "sgd_reg.fit(X, y.ravel())"
   ]
  },
  {
   "cell_type": "markdown",
   "metadata": {},
   "source": [
    "ここでも、正規方程式が返したのと非常に近い解が得られる。"
   ]
  },
  {
   "cell_type": "code",
   "execution_count": 18,
   "metadata": {},
   "outputs": [
    {
     "data": {
      "text/plain": [
       "(array([4.00330408]), array([2.84867272]))"
      ]
     },
     "execution_count": 18,
     "metadata": {},
     "output_type": "execute_result"
    }
   ],
   "source": [
    "sgd_reg.intercept_, sgd_reg.coef_"
   ]
  },
  {
   "cell_type": "markdown",
   "metadata": {},
   "source": [
    "## 4.2.3 ミニバッチ勾配降下法"
   ]
  },
  {
   "cell_type": "markdown",
   "metadata": {},
   "source": [
    "本書で取り上げる最後の勾配降下法アルゴリズムは、**ミニバッチ勾配降下法**(mini-batch gradient descent)である。バッチ勾配降下法と確率的勾配降下法を理解してしまえば、これは簡単に理解できる。ミニバッチGDは、各ステップで訓練セット全部(バッチGD)でも、たった1個のインスタンス(確率的GD)でもなく、**ミニバッチ**(mini-batch)と呼ばれる無作為に選んだインスタンスの小さな集合を使って勾配を計算する。ミニバッチGDが確率的GDよりも優れているのは、特にGPUを使ったときに、行列演算のハードウェアによる最適化を利用してパフォーマンスを引き上げられるところである。\n",
    "\n",
    "パラメータ空間におけるこのアルゴリズムの進み方は、特にかなり大規模なミニバッチを使うと、SGDよりも誤差が小さい。そのため、ミニバッチGDは、SGDよりも少し最小値に近いところを動き回ることになる。しかし、その分、局所的な最小値からは逃れにくくなる(以前説明したように、線形回帰とは異なり、局所的な最小値に悩まされる問題では)。"
   ]
  },
  {
   "cell_type": "markdown",
   "metadata": {},
   "source": [
    "## 4.3 多項式回帰"
   ]
  },
  {
   "cell_type": "markdown",
   "metadata": {},
   "source": [
    "データが単純な直線よりも難しい場合にはどのようにすればよいのだろうか。意外なことに、非線形データに線形モデルを適合させることができる。簡単なのは、各特徴量の累乗を新特徴量として追加し、この拡張特徴量セットで線形モデルを訓練する方法である。このテクニックを**多項式回帰**(polynomial regression)と呼ぶ。\n",
    "\n",
    "例を見てみよう。まず、単純な**2次方程式**(quadratic equation)（およびノイズ。)から非線形データを生成する。"
   ]
  },
  {
   "cell_type": "code",
   "execution_count": 19,
   "metadata": {},
   "outputs": [],
   "source": [
    "m = 100\n",
    "X = 6 * np.random.rand(m, 1) - 3\n",
    "y = 0.5 * X ** 2 + X + 2 + np.random.randn(m, 1)"
   ]
  },
  {
   "cell_type": "code",
   "execution_count": 22,
   "metadata": {},
   "outputs": [
    {
     "data": {
      "image/png": "[encoded data removed]",
      "text/plain": [
       "<Figure size 432x288 with 1 Axes>"
      ]
     },
     "metadata": {
      "needs_background": "light"
     },
     "output_type": "display_data"
    }
   ],
   "source": [
    "plt.scatter(X, y)\n",
    "plt.title('生成された非線形でノイズのあるデータセット')\n",
    "plt.xlabel('X')\n",
    "plt.ylabel('y')\n",
    "plt.show()"
   ]
  },
  {
   "cell_type": "markdown",
   "metadata": {},
   "source": [
    "直線ではこのデータに適合しないのは明らかだ。そこで、scikit-learnのPolynomialFeaturesクラスを使い、各特徴量の二乗(2次多項式)を新特徴量として訓練セットに追加する(この場合、特徴量はひとつしかない)。"
   ]
  },
  {
   "cell_type": "code",
   "execution_count": 23,
   "metadata": {},
   "outputs": [],
   "source": [
    "from sklearn.preprocessing import PolynomialFeatures"
   ]
  },
  {
   "cell_type": "code",
   "execution_count": 24,
   "metadata": {},
   "outputs": [
    {
     "data": {
      "text/plain": [
       "array([-1.78313013])"
      ]
     },
     "execution_count": 24,
     "metadata": {},
     "output_type": "execute_result"
    }
   ],
   "source": [
    "poly_features = PolynomialFeatures(degree=2, include_bias=False)\n",
    "X_poly = poly_features.fit_transform(X)\n",
    "X[0]"
   ]
  },
  {
   "cell_type": "code",
   "execution_count": 25,
   "metadata": {},
   "outputs": [
    {
     "data": {
      "text/plain": [
       "array([-1.78313013,  3.17955306])"
      ]
     },
     "execution_count": 25,
     "metadata": {},
     "output_type": "execute_result"
    }
   ],
   "source": [
    "X_poly[0]"
   ]
  },
  {
   "cell_type": "markdown",
   "metadata": {},
   "source": [
    "X_polyには、xのもともとの特徴量とこの特徴量の二乗を加えたものになっている。この拡張訓練データをLinearRegressionモデルに適合させよう。"
   ]
  },
  {
   "cell_type": "code",
   "execution_count": 26,
   "metadata": {},
   "outputs": [
    {
     "data": {
      "text/plain": [
       "(array([1.89956836]), array([[1.00157044, 0.508778  ]]))"
      ]
     },
     "execution_count": 26,
     "metadata": {},
     "output_type": "execute_result"
    }
   ],
   "source": [
    "lin_reg = LinearRegression()\n",
    "lin_reg.fit(X_poly, y)\n",
    "lin_reg.intercept_, lin_reg.coef_"
   ]
  },
  {
   "cell_type": "code",
   "execution_count": 34,
   "metadata": {},
   "outputs": [
    {
     "data": {
      "image/png": "[encoded data removed]",
      "text/plain": [
       "<Figure size 432x288 with 1 Axes>"
      ]
     },
     "metadata": {
      "needs_background": "light"
     },
     "output_type": "display_data"
    }
   ],
   "source": [
    "X_new=np.linspace(-3, 3, 100).reshape(100, 1)\n",
    "X_new_poly = poly_features.transform(X_new)\n",
    "y_new = lin_reg.predict(X_new_poly)\n",
    "plt.plot(X, y, \"b.\")\n",
    "plt.plot(X_new, y_new, \"r-\", linewidth=2, label=\"Predictions\")\n",
    "plt.xlabel(\"$x_1$\", fontsize=18)\n",
    "plt.ylabel(\"$y$\", rotation=0, fontsize=18)\n",
    "plt.legend(loc=\"upper left\", fontsize=14)\n",
    "plt.axis([-3, 3, 0, 10])\n",
    "plt.show()"
   ]
  },
  {
   "cell_type": "markdown",
   "metadata": {},
   "source": [
    "なかなかのものである。元の関数は$y=0.5 x_1^2 + 1.0 x_1 + 1.0 + {\\rm Gaussian\\_noise}$だったが、モデルは$0.50 x_1^2 + 1.00 x_1 + 1.89$を推測している。\n",
    "\n",
    "複数の特徴量があるとき、多項式回帰は特徴量間の関係を見つけられることに注意していただきたい(ただの線形回帰モデルではこんなことはできない)。そのようなことができるのは、PolynomialFeaturesが指定された次数まで特徴量のすべての組み合わせを追加できるからである。たとえば、$a$と$b$のふたつの特徴量があるとき、degree=3を指定したPolynomialFeaturesは、$a^2$、$a^3$、$b^2$、$b^3$だけでなく、これらを組み合わせた$ab$、$a^2b$、$ab^2$特徴量も追加する。"
   ]
  },
  {
   "cell_type": "markdown",
   "metadata": {},
   "source": [
    "## 4.4 学習曲線"
   ]
  },
  {
   "cell_type": "markdown",
   "metadata": {},
   "source": [
    "高次の多項式回帰を実行すれば、ただの線形回帰よりも訓練データにぴったりと適合させられる可能性が上がる。たとえば、次図は先ほどの訓練データに300次多項モデルを適用し、結果を純粋線形モデルと2次(2次多項)モデルの結果と比較したものである。300次多項モデルが訓練インスタンスにできる限り近づくために蛇行していることに注意していただきたい。"
   ]
  },
  {
   "cell_type": "code",
   "execution_count": 37,
   "metadata": {},
   "outputs": [
    {
     "data": {
      "image/png": "[encoded data removed]",
      "text/plain": [
       "<Figure size 432x288 with 1 Axes>"
      ]
     },
     "metadata": {
      "needs_background": "light"
     },
     "output_type": "display_data"
    }
   ],
   "source": [
    "from sklearn.preprocessing import StandardScaler\n",
    "from sklearn.pipeline import Pipeline\n",
    "\n",
    "for style, width, degree in ((\"g-\", 1, 300), (\"b--\", 2, 2), (\"r-+\", 2, 1)):\n",
    "    polybig_features = PolynomialFeatures(degree=degree, include_bias=False)\n",
    "    std_scaler = StandardScaler()\n",
    "    lin_reg = LinearRegression()\n",
    "    polynomial_regression = Pipeline([\n",
    "            (\"poly_features\", polybig_features),\n",
    "            (\"std_scaler\", std_scaler),\n",
    "            (\"lin_reg\", lin_reg),\n",
    "        ])\n",
    "    polynomial_regression.fit(X, y)\n",
    "    y_newbig = polynomial_regression.predict(X_new)\n",
    "    plt.plot(X_new, y_newbig, style, label=str(degree), linewidth=width)\n",
    "\n",
    "plt.plot(X, y, \"b.\", linewidth=3)\n",
    "plt.legend(loc=\"upper left\")\n",
    "plt.xlabel(\"$x_1$\", fontsize=18)\n",
    "plt.ylabel(\"$y$\", rotation=0, fontsize=18)\n",
    "plt.axis([-3, 3, 0, 10])\n",
    "plt.show()"
   ]
  },
  {
   "cell_type": "markdown",
   "metadata": {},
   "source": [
    "もちろん、この高次多項式回帰モデルは訓練データにひどく過学習しており、線形回帰モデルは過小適合になっている。この場合、もっともよく汎化するのは2次モデルである。もともとのデータが2次モデルで生成されているのでそれは当然だが、一般的にはどの関数がデータを生成したのかはわからない。モデルをどの程度まで複雑にすべきかはどのようにすればわかるだろうか。モデルがデータに過学習、過小適合していることはどうすれば見分けられるだろうか。\n",
    "\n",
    "2章では、交差検証を使ってモデルの汎化性能を推計した。モデルが訓練データに対して高い性能を発揮しても、交差検証の指標から判断してうまく汎化していないなら過学習であり、両方で性能が低ければ過小適合である。モデルが単純すぎたり複雑すぎたりしないかどうかを判断する方法のひとつがこれだ。\n",
    "\n",
    "もう一つの方法として**学習曲線**(learning curve)に注目しよう。学習曲線は、訓練セットのサイズの関数として訓練セット(あるいは訓練イテレーション)、検証セットの性能をプロットしたものである。プロットは、訓練セットのさまざまなサイズのサブセットを使って繰り返しモデルを訓練すれば描ける。次のコードは、訓練セットを与えると、モデルの学習曲線を描く関数を定義する。"
   ]
  },
  {
   "cell_type": "code",
   "execution_count": 38,
   "metadata": {},
   "outputs": [],
   "source": [
    "from sklearn.metrics import mean_squared_error\n",
    "from sklearn.model_selection import train_test_split"
   ]
  },
  {
   "cell_type": "code",
   "execution_count": 41,
   "metadata": {},
   "outputs": [],
   "source": [
    "def plot_learning_curves(model, X, y):\n",
    "    X_train, X_val, y_train, y_val = train_test_split(X, y, test_size=0.2)\n",
    "    train_errors, val_errors = [], []\n",
    "    for m in range(1, len(X_train)):\n",
    "        model.fit(X_train[:m], y_train[:m])\n",
    "        y_train_predict = model.predict(X_train[:m])\n",
    "        y_val_predict = model.predict(X_val)\n",
    "        train_errors.append(mean_squared_error(y_train_predict, y_train[:m]))\n",
    "        val_errors.append(mean_squared_error(y_val_predict, y_val))\n",
    "    plt.plot(np.sqrt(train_errors), \"r-+\", linewidth=2, label=\"train\")\n",
    "    plt.plot(np.sqrt(val_errors), \"b-\", linewidth=3, label=\"val\")\n",
    "    plt.legend(loc=\"upper right\")\n",
    "    plt.xlabel(\"Training set size\")\n",
    "    plt.ylabel(\"RMSE\")"
   ]
  },
  {
   "cell_type": "markdown",
   "metadata": {},
   "source": [
    "では、プレーンな線形回帰モデル(直線)の学習曲線を見てみよう。"
   ]
  },
  {
   "cell_type": "code",
   "execution_count": 42,
   "metadata": {},
   "outputs": [
    {
     "data": {
      "image/png": "[encoded data removed]",
      "text/plain": [
       "<Figure size 432x288 with 1 Axes>"
      ]
     },
     "metadata": {
      "needs_background": "light"
     },
     "output_type": "display_data"
    }
   ],
   "source": [
    "lin_reg = LinearRegression()\n",
    "plot_learning_curves(lin_reg, X, y)"
   ]
  },
  {
   "cell_type": "markdown",
   "metadata": {},
   "source": [
    "このグラフについては少し説明が必要だろう。まず、訓練データに対する性能に注目しよう。訓練セットのインスタンスが1、2個なら、モデルはそれらの完全に適合できる。そこで、訓練データに完全に適合することができなくなる。そのため、訓練データに対する誤差(訓練誤差)は次第に上がってある地点で安定する。そこまで達すると、訓練データに新しいインスタンスを追加しても平均誤差はよくも悪くもならない。次に、検証セットに対する性能を見てみよう。ごくわずかな訓練セットで訓練されたモデルでは、十分に汎化できないため、最初のうちは検証セットに対する誤差(検証誤差)はかなり大きい。しかし、モデルに与える訓練データの数が増えると、モデルは学習し、検証誤差はゆっくりと下がってくる。しかし、直線ではデータを十分モデリングできなくなると、誤差は増減しなくなり、もう一方の曲線と非常に近くなる。\n",
    "\n",
    "このような学習曲線は、過小適合モデルの典型的な例である。両方の曲線が一定の水準に達し、ともに非常に近接しているが、全体として誤差が大きい。\n",
    "\n",
    "では、同じデータに対する10次多項モデルの学習曲線を見てみよう。"
   ]
  },
  {
   "cell_type": "code",
   "execution_count": 45,
   "metadata": {},
   "outputs": [
    {
     "data": {
      "image/png": "[encoded data removed]",
      "text/plain": [
       "<Figure size 432x288 with 1 Axes>"
      ]
     },
     "metadata": {
      "needs_background": "light"
     },
     "output_type": "display_data"
    }
   ],
   "source": [
    "polynomial_regression = Pipeline([\n",
    "    (\"poly_features\", PolynomialFeatures(degree=10, include_bias=False)),\n",
    "    (\"lin_reg\", LinearRegression()),\n",
    "])\n",
    "\n",
    "plot_learning_curves(polynomial_regression, X, y)"
   ]
  },
  {
   "cell_type": "markdown",
   "metadata": {},
   "source": [
    "新しい学習曲線は、前の学習曲線と少し似ているが、次のふたつの点で大きく異なる。\n",
    "- 線形回帰モデルよりも訓練誤差がかなり小さい。\n",
    "- ふたつの曲線の間に大きな差がある。これは、検証データに対する性能よりも訓練データに対する性能の方がかなり高いということであり、過学習の顕著な特徴である。しかし、訓練セットを大きくすると、ふたつの曲線は少しずつ近づいていく。"
   ]
  },
  {
   "cell_type": "markdown",
   "metadata": {},
   "source": [
    "## 4.5 正則化された線形回帰"
   ]
  },
  {
   "cell_type": "markdown",
   "metadata": {},
   "source": [
    "1章および、2章で説明したように、モデルの正則化(つまり、制約の強化)はモデルの過学習を緩和するためのよい方法である。自由度が下がれば下がるほど、モデルは過学習しにくくなる。たとえば、多項式回帰モデルには、次数を減らすという簡単な正則化の方法がある。\n",
    "\n",
    "線形回帰の正則化は、一般にモデルの重みを制限して実現される。ここでは、3種類の異なる方法で重みに制限を加えるRidge回帰、Lasso回帰、Elastic Netを取り上げる。"
   ]
  },
  {
   "cell_type": "markdown",
   "metadata": {},
   "source": [
    "## 4.5.1 リッジ回帰"
   ]
  },
  {
   "cell_type": "markdown",
   "metadata": {},
   "source": [
    "**リッジ回帰**(Ridge Regression)は線形回帰の正則化で、コスト関数に$\\alpha \\sum_{i=1}^n \\theta_i^2$という**正則化項**(regularization term)を加える。すると、学習アルゴリズムは、データに適合するだけでなく、モデルの重さをできる限り小さく保たなければならなくなる。正則化項は、訓練項は、訓練中のコスト関数だけに加えられることに注意しよう。モデルの訓練が終わったら、モデルの性能は正則化されていない性能指標で評価するのである。\n",
    "\n",
    "ハイパーパラメータ$\\alpha$は、モデルをどの程度正則化するかを決める。$\\alpha=0$なら、リッジ回帰はただの線形回帰になる。それに対し、$\\alpha$が非常に大きければ、すべての重みが限りなく0に近づき、結果はデータの平均値を通る水平線になる。式4-8は、リッジ回帰コスト関数を示している。\n",
    "$$\n",
    "    J(\\theta) = {\\rm MSE}(\\theta) + \\alpha \\frac{1}{2} \\sum_{i=1}^n \\theta_i^2 \\tag{4-8}\n",
    "$$\n",
    "バイアス項の$\\theta_0$は正則化されないことに注意しよう(総和は0からでなく、$i=1$から始まっている)。特徴量の重みのベクトル($\\theta_1$から$\\theta_n$)のベクトルを$\\pmb{w}$と定義すると、正則化項は、単純に$\\frac{1}{2}(\\|\\pmb{w}\\|_2)^2$となる。ここで、$\\|\\cdot\\|_2$は、重みベクトルの$l_2$ノルムを表す。勾配降下法では、MSE勾配ベクトル式4-6に$\\alpha \\pmb{w}$を加えるだけである。\n",
    "\n",
    "次図は、線形モデルに対して異なる$\\alpha$値を使って訓練したリッジモデルを複数並べたものである。左側はプレーンなリッジモデルを使っており、予測は線形になっている。右側は、まずPolynomialFeatures(degree=10)を使ってデータを拡張してからStandardScalerを使ってスケーリングし、得られた特徴量にリッジモデルを適用したもので、リッジ正則化をともなう多項式回帰になっている。$\\alpha$を大きくすると、予測が平板化する(つまり、極端でなくなり、合理的になる)ことに注意していただきたい。こうすると、モデルの分散は下がるが、バイアスは上がる。"
   ]
  },
  {
   "cell_type": "code",
   "execution_count": 46,
   "metadata": {},
   "outputs": [],
   "source": [
    "from sklearn.linear_model import Ridge"
   ]
  },
  {
   "cell_type": "code",
   "execution_count": 47,
   "metadata": {},
   "outputs": [
    {
     "data": {
      "image/png": "[encoded data removed]",
      "text/plain": [
       "<Figure size 576x288 with 2 Axes>"
      ]
     },
     "metadata": {
      "needs_background": "light"
     },
     "output_type": "display_data"
    }
   ],
   "source": [
    "np.random.seed(42)\n",
    "m = 20\n",
    "X = 3 * np.random.rand(m, 1)\n",
    "y = 1 + 0.5 * X + np.random.randn(m, 1) / 1.5\n",
    "X_new = np.linspace(0, 3, 100).reshape(100, 1)\n",
    "\n",
    "def plot_model(model_class, polynomial, alphas, **model_kargs):\n",
    "    for alpha, style in zip(alphas, (\"b-\", \"g--\", \"r:\")):\n",
    "        model = model_class(alpha, **model_kargs) if alpha > 0 else LinearRegression()\n",
    "        if polynomial:\n",
    "            model = Pipeline([\n",
    "                    (\"poly_features\", PolynomialFeatures(degree=10, include_bias=False)),\n",
    "                    (\"std_scaler\", StandardScaler()),\n",
    "                    (\"regul_reg\", model),\n",
    "                ])\n",
    "        model.fit(X, y)\n",
    "        y_new_regul = model.predict(X_new)\n",
    "        lw = 2 if alpha > 0 else 1\n",
    "        plt.plot(X_new, y_new_regul, style, linewidth=lw, label=r\"$\\alpha = {}$\".format(alpha))\n",
    "    plt.plot(X, y, \"b.\", linewidth=3)\n",
    "    plt.legend(loc=\"upper left\", fontsize=15)\n",
    "    plt.xlabel(\"$x_1$\", fontsize=18)\n",
    "    plt.axis([0, 3, 0, 4])\n",
    "\n",
    "plt.figure(figsize=(8,4))\n",
    "plt.subplot(121)\n",
    "plot_model(Ridge, polynomial=False, alphas=(0, 10, 100), random_state=42)\n",
    "plt.ylabel(\"$y$\", rotation=0, fontsize=18)\n",
    "plt.subplot(122)\n",
    "plot_model(Ridge, polynomial=True, alphas=(0, 10**-5, 1), random_state=42)\n",
    "plt.show()"
   ]
  },
  {
   "cell_type": "markdown",
   "metadata": {},
   "source": [
    "線形回帰と同様に、リッジ回帰は閉形式の式を計算しても、勾配降下法でも訓練できる。長所と短所も同じだ。式4-9は、閉形式の解を示している。($\\pmb{A}$は、バイアス項に対応する左上のセルが0になっていることを除けば、$n \\times n$の**単位行列**: identity matrixと同じである)。\n",
    "$$\n",
    "    \\hat{\\theta} = (\\pmb{X}^{\\rm T} \\cdot \\pmb{X} + \\alpha \\pmb{A})^{-1}\n",
    "        \\cdot \\pmb{X}^{\\rm T} \\cdot \\pmb{y} \\tag{4-9}\n",
    "$$\n",
    "scikit-learnで閉形式の解(アンドレ・ルイ・コレスキーの行列分解テクニックを使った式4-9の変種)を使ってリッジ回帰をしてみよう。"
   ]
  },
  {
   "cell_type": "code",
   "execution_count": 48,
   "metadata": {},
   "outputs": [
    {
     "data": {
      "text/plain": [
       "array([[1.55071465]])"
      ]
     },
     "execution_count": 48,
     "metadata": {},
     "output_type": "execute_result"
    }
   ],
   "source": [
    "ridge_reg = Ridge(alpha=1, solver=\"cholesky\")\n",
    "ridge_reg.fit(X, y)\n",
    "ridge_reg.predict([[1.5]])"
   ]
  },
  {
   "cell_type": "markdown",
   "metadata": {},
   "source": [
    "そして、確率的勾配降下法を使う。"
   ]
  },
  {
   "cell_type": "code",
   "execution_count": 50,
   "metadata": {},
   "outputs": [
    {
     "data": {
      "text/plain": [
       "array([1.49905184])"
      ]
     },
     "execution_count": 50,
     "metadata": {},
     "output_type": "execute_result"
    }
   ],
   "source": [
    "sgd_reg = SGDRegressor(max_iter=50, tol=-np.infty, penalty=\"l2\", random_state=42)\n",
    "sgd_reg.fit(X, y.ravel())\n",
    "sgd_reg.predict([[1.5]])"
   ]
  },
  {
   "cell_type": "markdown",
   "metadata": {},
   "source": [
    "penaltyハイパーパラメータは、使う正則化項のタイプを設定する。\"12\"を指定すると、重みベクトルの$l_2$ノルムの二乗の半分という正則化項をSGDのコスト関数に加えることになるが、これはまさにリッジ回帰である。"
   ]
  },
  {
   "cell_type": "markdown",
   "metadata": {},
   "source": [
    "## 4.5.2 Lasso回帰"
   ]
  },
  {
   "cell_type": "markdown",
   "metadata": {},
   "source": [
    "**Lasso回帰**とはLeast Absolute Shrinkage and Selection Operator Regressionの略で、線形回帰の正則化版のひとつである。リッジ回帰と同様に、コスト関数に正則化項を加えるが、重みベクトルの$l_2\"$ノルムの二乗の半分ではなく、重みベクトルの$l_1$を使う(式4-10)。\n",
    "$$\n",
    "    J(\\theta) = {\\rm MSE}(\\theta) + \\alpha \\sum_{i=1}^n |\\theta_i|\n",
    "$$\n",
    "Lasso回帰には、重要性の低い特徴量の重みを完全に取り除いてしまう(つまり0にする)傾向があるという重要な特徴がある。たとえば、右側のグラフの破線($\\alpha = 10^{-7}$)は、ほとんど線形の2次曲線のように見える。高次多項特徴量の重みはすべて0になっている。言い換えれば、Lasso回帰は、自動的に特徴量を選択し、**疎なモデル**(sparse model: 0以外の重みを持つ特徴量がほとんどないモデル)を出力する。"
   ]
  },
  {
   "cell_type": "code",
   "execution_count": 51,
   "metadata": {},
   "outputs": [
    {
     "data": {
      "image/png": "[encoded data removed]",
      "text/plain": [
       "<Figure size 576x288 with 2 Axes>"
      ]
     },
     "metadata": {
      "needs_background": "light"
     },
     "output_type": "display_data"
    }
   ],
   "source": [
    "from sklearn.linear_model import Lasso\n",
    "\n",
    "plt.figure(figsize=(8,4))\n",
    "plt.subplot(121)\n",
    "plot_model(Lasso, polynomial=False, alphas=(0, 0.1, 1), random_state=42)\n",
    "plt.ylabel(\"$y$\", rotation=0, fontsize=18)\n",
    "plt.subplot(122)\n",
    "plot_model(Lasso, polynomial=True, alphas=(0, 10**-7, 1), tol=1, random_state=42)\n",
    "plt.show()"
   ]
  },
  {
   "cell_type": "markdown",
   "metadata": {},
   "source": [
    "Lassoコスト関数は、$\\theta_i = 0\\,(i = 1,2,\\cdots n)$で微分可能ではないが、$\\theta_i = 0$のところで代わりに**劣勾配ベクトル**(subgradient vector)を使えば勾配降下法はうまく機能する。Lassoコスト関数の勾配降下法を使える劣勾配ベクトルは、式4-11のようになる。\n",
    "$$\n",
    "    g(\\theta, J) = \\nabla_{\\theta} {\\rm MSE}(\\theta) + \\alpha\n",
    "    \\left(\n",
    "        \\begin{array}{c}\n",
    "            {\\rm sign}(\\theta_1) \\\\\n",
    "            {\\rm sign}(\\theta_2) \\\\\n",
    "            \\vdots \\\\\n",
    "            {\\rm sign}(\\theta_n)\n",
    "        \\end{array}\n",
    "    \\right)\n",
    "    \\,{\\rm where}\\, {\\rm sign}(\\theta_i) =\n",
    "    \\begin{cases}\n",
    "        -1 & {\\rm if}\\, \\theta_i < 0 \\\\\n",
    "        0 & {\\rm if}\\, \\theta_i = 0 \\\\\n",
    "        +1 & {\\rm if}\\, \\theta_i > 0\n",
    "  \\end{cases} \\tag{4-11}\n",
    "$$\n",
    "次に示すのは、scikit-learnのLassoクラスを使った例である。代わりにSGDRegressor(penalty=\"11\")を使ってもよいことに注意しよう。"
   ]
  },
  {
   "cell_type": "code",
   "execution_count": 52,
   "metadata": {},
   "outputs": [
    {
     "data": {
      "text/plain": [
       "array([1.53788174])"
      ]
     },
     "execution_count": 52,
     "metadata": {},
     "output_type": "execute_result"
    }
   ],
   "source": [
    "lasso_reg = Lasso(alpha=0.1)\n",
    "lasso_reg.fit(X, y)\n",
    "lasso_reg.predict([[1.5]])"
   ]
  },
  {
   "cell_type": "markdown",
   "metadata": {},
   "source": [
    "## 4.5.3 Elastic Net"
   ]
  },
  {
   "cell_type": "code",
   "execution_count": null,
   "metadata": {},
   "outputs": [],
   "source": []
  },
  {
   "cell_type": "markdown",
   "metadata": {},
   "source": [
    "Elastic Netは、リッジ回帰と"
   ]
  }
 ],
 "metadata": {
  "kernelspec": {
   "display_name": "Python 3",
   "language": "python",
   "name": "python3"
  },
  "language_info": {
   "codemirror_mode": {
    "name": "ipython",
    "version": 3
   },
   "file_extension": ".py",
   "mimetype": "text/x-python",
   "name": "python",
   "nbconvert_exporter": "python",
   "pygments_lexer": "ipython3",
   "version": "3.6.8"
  }
 },
 "nbformat": 4,
 "nbformat_minor": 2
}
